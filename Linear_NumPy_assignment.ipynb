{
 "cells": [
  {
   "cell_type": "markdown",
   "metadata": {},
   "source": [
    "In this Notebook you guys will implement linear regression using NumPy\n",
    "\n",
    "We have provided hints along the way in the comments\n",
    "\n",
    "Some cells we have commented \"#DO NOT EDIT\" please do not edit these cells as they will be used for evaluating your assignment\n",
    "\n",
    "\n",
    "Any extra cells used must be commented to explain what is being done\n",
    "\n",
    "BEST OF LUCK !!\n",
    "\n",
    "\n",
    "*NOTE:The target variable is Target*\n"
   ]
  },
  {
   "cell_type": "code",
   "execution_count": null,
   "metadata": {},
   "outputs": [],
   "source": [
    "#Importing neccessary libraries\n",
    "#do not import anything else\n",
    "\n",
    "import pandas as pd\n",
    "import matplotlib.pyplot as plt\n",
    "import numpy as np\n",
    "from sklearn.model_selection import train_test_split\n",
    "from sklearn.preprocessing import minmax_scale\n"
   ]
  },
  {
   "cell_type": "code",
   "execution_count": null,
   "metadata": {},
   "outputs": [],
   "source": [
    "#import the dataset\n",
    "data="
   ]
  },
  {
   "cell_type": "code",
   "execution_count": null,
   "metadata": {},
   "outputs": [],
   "source": [
    "data.head()"
   ]
  },
  {
   "cell_type": "code",
   "execution_count": null,
   "metadata": {},
   "outputs": [],
   "source": [
    "#Separate features and target variables\n",
    "Y=\n",
    "X="
   ]
  },
  {
   "cell_type": "code",
   "execution_count": null,
   "metadata": {},
   "outputs": [],
   "source": [
    "#Extra preproccesing if required\n",
    "#hint: you may need to use .to_numpy and reshape functions\n",
    "\n"
   ]
  },
  {
   "cell_type": "code",
   "execution_count": null,
   "metadata": {},
   "outputs": [],
   "source": [
    "#Split train and test dataset use test size=0.2 and random_state=1\n",
    "X_train,X_test,Y_train,Y_test="
   ]
  },
  {
   "cell_type": "code",
   "execution_count": null,
   "metadata": {},
   "outputs": [],
   "source": [
    "#Other preprocessing if required(transpose a matrix maybe?)\n"
   ]
  },
  {
   "cell_type": "markdown",
   "metadata": {},
   "source": [
    "Below is an image to refresh you memory regarding linear regression\n",
    "Your task is to implement the vectorised versions of these\n",
    "You can refer the log regression notebook for help\n",
    "here m is the number of examples and h(theta) is y_hat"
   ]
  },
  {
   "cell_type": "markdown",
   "metadata": {},
   "source": [
    "![Here's an image to refresh your memory ](Refresher.jpg \"Refresh\")"
   ]
  },
  {
   "cell_type": "code",
   "execution_count": null,
   "metadata": {},
   "outputs": [],
   "source": [
    "#initialize weights\n",
    "#should return numpy array of weights and constant c\n",
    "def weights_init(X):\n",
    "    #your code here\n",
    "    \n",
    "    return weights\n",
    "    "
   ]
  },
  {
   "cell_type": "code",
   "execution_count": null,
   "metadata": {},
   "outputs": [],
   "source": [
    "#Calculate Hypothesis\n",
    "def hypo(w,x):\n",
    "    #your code here\n",
    "    \n",
    "    \n",
    "    return y_hat"
   ]
  },
  {
   "cell_type": "code",
   "execution_count": null,
   "metadata": {},
   "outputs": [],
   "source": [
    "#Calculate Cost\n",
    "#hint: use np.square\n",
    "def cost(y_hat,y):\n",
    "    #your code here\n",
    "    \n",
    "    \n",
    "    return J"
   ]
  },
  {
   "cell_type": "code",
   "execution_count": null,
   "metadata": {},
   "outputs": [],
   "source": [
    "#Perform gradient descent\n",
    "def gradient_descent(w,x,y,y_hat,alpha):\n",
    "    #your code here \n"
   ]
  },
  {
   "cell_type": "code",
   "execution_count": null,
   "metadata": {},
   "outputs": [],
   "source": [
    "#Assemble Your linear regression model \n",
    "#make it print cost after 25%,50%,75%,100% of the iterations are complete \n",
    "#also add an option to disable cost output and directly print cost after last iteration \n",
    "#hint use verbose as extra arguement of function\n",
    "#costs is array of all costs\n",
    "def lin_model_fit(x,y,alpha,iterations):\n",
    "    #your code here\n",
    "    \n",
    "    \n",
    "    \n",
    "    \n",
    "    return weights,constant,costs\n",
    "    \n"
   ]
  },
  {
   "cell_type": "code",
   "execution_count": null,
   "metadata": {},
   "outputs": [],
   "source": [
    "#Fit model to data\n",
    "# use alpha=0.01,iter=100\n"
   ]
  },
  {
   "cell_type": "code",
   "execution_count": null,
   "metadata": {},
   "outputs": [],
   "source": [
    "#Fit model to normalised data using minmaxscaler\n",
    "#use alpha=0.01,iter=100"
   ]
  },
  {
   "cell_type": "code",
   "execution_count": 1,
   "metadata": {},
   "outputs": [],
   "source": [
    "#draw combined graph of above models of cost V/s iterations\n"
   ]
  },
  {
   "cell_type": "code",
   "execution_count": null,
   "metadata": {},
   "outputs": [],
   "source": [
    "#store best value of weights in weights_final\n",
    "weights_final="
   ]
  },
  {
   "cell_type": "code",
   "execution_count": null,
   "metadata": {},
   "outputs": [],
   "source": [
    "#write function to use model on data for prediction\n",
    "def predict(X,w):\n",
    "    #your code here\n",
    "    \n",
    "    \n",
    "    \n",
    "    return prediction"
   ]
  },
  {
   "cell_type": "code",
   "execution_count": null,
   "metadata": {},
   "outputs": [],
   "source": [
    "#Calculate accuracy \n",
    "\n",
    "def accuracy(y,y_hat):\n",
    "    \n",
    "    return acc"
   ]
  },
  {
   "cell_type": "code",
   "execution_count": null,
   "metadata": {},
   "outputs": [],
   "source": [
    "#call predict function to make predictions on test and train data\n",
    "#DO NOT EDIT\n",
    "pred_train=predict(X_train,weights_final)\n",
    "pred_test=predict(X_test,weights_final)\n"
   ]
  },
  {
   "cell_type": "code",
   "execution_count": null,
   "metadata": {},
   "outputs": [],
   "source": [
    "#DO NOT EDIT\n",
    "print(\"=============For train data:=============\")\n",
    "acc1=accuracy(Y_tr,pred_train)\n",
    "print(\"accuracy:\",acc1)\n",
    "print(\"\\n\\n=============For test data================\")\n",
    "acc2=accuracy(Y_ts,pred_test)\n",
    "print(\"accuracy:\",acc2)"
   ]
  },
  {
   "cell_type": "markdown",
   "metadata": {},
   "source": [
    "The below cells plot y_hat vs y\n",
    "The closer the plot is to a straight line;The better your model"
   ]
  },
  {
   "cell_type": "code",
   "execution_count": null,
   "metadata": {},
   "outputs": [],
   "source": [
    "plt.scatter(pred_train,Y_tr)\n",
    "plt.show()"
   ]
  },
  {
   "cell_type": "code",
   "execution_count": null,
   "metadata": {},
   "outputs": [],
   "source": [
    "plt.scatter(pred_test,Y_ts)\n",
    "plt.show()"
   ]
  },
  {
   "cell_type": "markdown",
   "metadata": {},
   "source": [
    "The Below questions are optional and can be done for brownie points"
   ]
  },
  {
   "cell_type": "code",
   "execution_count": null,
   "metadata": {},
   "outputs": [],
   "source": [
    "#Try out hyperparameter tuning for alpha"
   ]
  },
  {
   "cell_type": "code",
   "execution_count": null,
   "metadata": {},
   "outputs": [],
   "source": [
    "#Print your best accuracy acheived and hyperparameter value"
   ]
  }
 ],
 "metadata": {
  "kernelspec": {
   "display_name": "Python 3",
   "language": "python",
   "name": "python3"
  },
  "language_info": {
   "codemirror_mode": {
    "name": "ipython",
    "version": 3
   },
   "file_extension": ".py",
   "mimetype": "text/x-python",
   "name": "python",
   "nbconvert_exporter": "python",
   "pygments_lexer": "ipython3",
   "version": "3.7.3"
  }
 },
 "nbformat": 4,
 "nbformat_minor": 2
}
