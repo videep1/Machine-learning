{
 "cells": [
  {
   "cell_type": "code",
   "execution_count": 5,
   "metadata": {},
   "outputs": [],
   "source": [
    "import numpy as np\n",
    "import pandas as pd\n",
    "from sklearn.metrics import roc_auc_score,accuracy_score\n",
    "from sklearn.model_selection import train_test_split\n",
    "from sklearn.svm import SVC\n",
    "from sklearn.preprocessing import scale\n",
    "from sklearn.linear_model import LogisticRegression"
   ]
  },
  {
   "cell_type": "code",
   "execution_count": 2,
   "metadata": {},
   "outputs": [],
   "source": [
    "np.seed=2"
   ]
  },
  {
   "cell_type": "code",
   "execution_count": 3,
   "metadata": {},
   "outputs": [],
   "source": [
    "df=pd.read_csv(\"SETFinal.csv\")"
   ]
  },
  {
   "cell_type": "code",
   "execution_count": 23,
   "metadata": {},
   "outputs": [
    {
     "output_type": "execute_result",
     "data": {
      "text/plain": "        Unnamed: 0             0             1             2             3  \\\ncount  10000.00000  10000.000000  10000.000000  10000.000000  10000.000000   \nmean    4999.50000   4660.577572     -0.016413     -0.189499     -0.067729   \nstd     2886.89568  13316.997439      0.861926      0.591583      2.181057   \nmin        0.00000 -51493.307762     -3.233814     -2.377302     -8.312751   \n25%     2499.75000  -4270.390325     -0.606237     -0.595740     -1.509866   \n50%     4999.50000   4716.459145      0.000257     -0.190193     -0.013585   \n75%     7499.25000  13715.322035      0.560846      0.204907      1.411676   \nmax     9999.00000  54897.333673      3.298582      2.122022      8.186013   \n\n                  4             5             6              7             8  \\\ncount  10000.000000  10000.000000  10000.000000   10000.000000  10000.000000   \nmean      -0.324929  -7556.005515     -1.982117    -932.753021      0.005436   \nstd        0.977712  19383.237068    595.564470   27992.620073      2.778825   \nmin       -4.020777 -91507.766061  -2154.020521 -111712.581190    -10.913500   \n25%       -0.989911 -20533.690456   -398.699384  -19468.771411     -1.901931   \n50%       -0.335352  -7746.377697    -13.152659    -323.888498     -0.059337   \n75%        0.326602   5170.391230    399.010397   17743.938545      1.855283   \nmax        3.819813  78499.374215   2019.086655  106019.561191     10.940136   \n\n       ...            11            12             13             14  \\\ncount  ...  10000.000000  10000.000000   10000.000000   10000.000000   \nmean   ...  -6208.543609      0.068468     850.847066   -9250.395025   \nstd    ...  16147.814982      0.225980   24357.702531   24788.942623   \nmin    ... -63661.771444     -0.812077  -82304.362897 -115376.541216   \n25%    ... -16780.374340     -0.084895  -15754.709404  -25706.940167   \n50%    ...  -6248.757577      0.067475    -449.273301   -9470.969097   \n75%    ...   4735.362156      0.221885   16454.613125    7293.136567   \nmax    ...  62181.084004      0.983625  105778.469642   93687.200381   \n\n                 15            16            17            18            19  \\\ncount  10000.000000  10000.000000  10000.000000  10000.000000  10000.000000   \nmean    -199.398988    -17.548252     -0.001324      0.369810    162.941772   \nstd     5240.368211   3078.198739      0.683545      1.091585    506.842017   \nmin   -23186.598705 -11168.735303     -3.058504     -3.417585  -1980.421448   \n25%    -3745.978375  -2106.709500     -0.453107     -0.363015   -169.151544   \n50%     -354.828689     10.567907      0.023612      0.374639    166.579159   \n75%     3185.733847   2094.412419      0.470221      1.097202    500.776416   \nmax    22665.107054  10541.044498      2.610047      5.182241   2108.388355   \n\n             target  \ncount  10000.000000  \nmean       0.104400  \nstd        0.305794  \nmin        0.000000  \n25%        0.000000  \n50%        0.000000  \n75%        0.000000  \nmax        1.000000  \n\n[8 rows x 22 columns]",
      "text/html": "<div>\n<style scoped>\n    .dataframe tbody tr th:only-of-type {\n        vertical-align: middle;\n    }\n\n    .dataframe tbody tr th {\n        vertical-align: top;\n    }\n\n    .dataframe thead th {\n        text-align: right;\n    }\n</style>\n<table border=\"1\" class=\"dataframe\">\n  <thead>\n    <tr style=\"text-align: right;\">\n      <th></th>\n      <th>Unnamed: 0</th>\n      <th>0</th>\n      <th>1</th>\n      <th>2</th>\n      <th>3</th>\n      <th>4</th>\n      <th>5</th>\n      <th>6</th>\n      <th>7</th>\n      <th>8</th>\n      <th>...</th>\n      <th>11</th>\n      <th>12</th>\n      <th>13</th>\n      <th>14</th>\n      <th>15</th>\n      <th>16</th>\n      <th>17</th>\n      <th>18</th>\n      <th>19</th>\n      <th>target</th>\n    </tr>\n  </thead>\n  <tbody>\n    <tr>\n      <th>count</th>\n      <td>10000.00000</td>\n      <td>10000.000000</td>\n      <td>10000.000000</td>\n      <td>10000.000000</td>\n      <td>10000.000000</td>\n      <td>10000.000000</td>\n      <td>10000.000000</td>\n      <td>10000.000000</td>\n      <td>10000.000000</td>\n      <td>10000.000000</td>\n      <td>...</td>\n      <td>10000.000000</td>\n      <td>10000.000000</td>\n      <td>10000.000000</td>\n      <td>10000.000000</td>\n      <td>10000.000000</td>\n      <td>10000.000000</td>\n      <td>10000.000000</td>\n      <td>10000.000000</td>\n      <td>10000.000000</td>\n      <td>10000.000000</td>\n    </tr>\n    <tr>\n      <th>mean</th>\n      <td>4999.50000</td>\n      <td>4660.577572</td>\n      <td>-0.016413</td>\n      <td>-0.189499</td>\n      <td>-0.067729</td>\n      <td>-0.324929</td>\n      <td>-7556.005515</td>\n      <td>-1.982117</td>\n      <td>-932.753021</td>\n      <td>0.005436</td>\n      <td>...</td>\n      <td>-6208.543609</td>\n      <td>0.068468</td>\n      <td>850.847066</td>\n      <td>-9250.395025</td>\n      <td>-199.398988</td>\n      <td>-17.548252</td>\n      <td>-0.001324</td>\n      <td>0.369810</td>\n      <td>162.941772</td>\n      <td>0.104400</td>\n    </tr>\n    <tr>\n      <th>std</th>\n      <td>2886.89568</td>\n      <td>13316.997439</td>\n      <td>0.861926</td>\n      <td>0.591583</td>\n      <td>2.181057</td>\n      <td>0.977712</td>\n      <td>19383.237068</td>\n      <td>595.564470</td>\n      <td>27992.620073</td>\n      <td>2.778825</td>\n      <td>...</td>\n      <td>16147.814982</td>\n      <td>0.225980</td>\n      <td>24357.702531</td>\n      <td>24788.942623</td>\n      <td>5240.368211</td>\n      <td>3078.198739</td>\n      <td>0.683545</td>\n      <td>1.091585</td>\n      <td>506.842017</td>\n      <td>0.305794</td>\n    </tr>\n    <tr>\n      <th>min</th>\n      <td>0.00000</td>\n      <td>-51493.307762</td>\n      <td>-3.233814</td>\n      <td>-2.377302</td>\n      <td>-8.312751</td>\n      <td>-4.020777</td>\n      <td>-91507.766061</td>\n      <td>-2154.020521</td>\n      <td>-111712.581190</td>\n      <td>-10.913500</td>\n      <td>...</td>\n      <td>-63661.771444</td>\n      <td>-0.812077</td>\n      <td>-82304.362897</td>\n      <td>-115376.541216</td>\n      <td>-23186.598705</td>\n      <td>-11168.735303</td>\n      <td>-3.058504</td>\n      <td>-3.417585</td>\n      <td>-1980.421448</td>\n      <td>0.000000</td>\n    </tr>\n    <tr>\n      <th>25%</th>\n      <td>2499.75000</td>\n      <td>-4270.390325</td>\n      <td>-0.606237</td>\n      <td>-0.595740</td>\n      <td>-1.509866</td>\n      <td>-0.989911</td>\n      <td>-20533.690456</td>\n      <td>-398.699384</td>\n      <td>-19468.771411</td>\n      <td>-1.901931</td>\n      <td>...</td>\n      <td>-16780.374340</td>\n      <td>-0.084895</td>\n      <td>-15754.709404</td>\n      <td>-25706.940167</td>\n      <td>-3745.978375</td>\n      <td>-2106.709500</td>\n      <td>-0.453107</td>\n      <td>-0.363015</td>\n      <td>-169.151544</td>\n      <td>0.000000</td>\n    </tr>\n    <tr>\n      <th>50%</th>\n      <td>4999.50000</td>\n      <td>4716.459145</td>\n      <td>0.000257</td>\n      <td>-0.190193</td>\n      <td>-0.013585</td>\n      <td>-0.335352</td>\n      <td>-7746.377697</td>\n      <td>-13.152659</td>\n      <td>-323.888498</td>\n      <td>-0.059337</td>\n      <td>...</td>\n      <td>-6248.757577</td>\n      <td>0.067475</td>\n      <td>-449.273301</td>\n      <td>-9470.969097</td>\n      <td>-354.828689</td>\n      <td>10.567907</td>\n      <td>0.023612</td>\n      <td>0.374639</td>\n      <td>166.579159</td>\n      <td>0.000000</td>\n    </tr>\n    <tr>\n      <th>75%</th>\n      <td>7499.25000</td>\n      <td>13715.322035</td>\n      <td>0.560846</td>\n      <td>0.204907</td>\n      <td>1.411676</td>\n      <td>0.326602</td>\n      <td>5170.391230</td>\n      <td>399.010397</td>\n      <td>17743.938545</td>\n      <td>1.855283</td>\n      <td>...</td>\n      <td>4735.362156</td>\n      <td>0.221885</td>\n      <td>16454.613125</td>\n      <td>7293.136567</td>\n      <td>3185.733847</td>\n      <td>2094.412419</td>\n      <td>0.470221</td>\n      <td>1.097202</td>\n      <td>500.776416</td>\n      <td>0.000000</td>\n    </tr>\n    <tr>\n      <th>max</th>\n      <td>9999.00000</td>\n      <td>54897.333673</td>\n      <td>3.298582</td>\n      <td>2.122022</td>\n      <td>8.186013</td>\n      <td>3.819813</td>\n      <td>78499.374215</td>\n      <td>2019.086655</td>\n      <td>106019.561191</td>\n      <td>10.940136</td>\n      <td>...</td>\n      <td>62181.084004</td>\n      <td>0.983625</td>\n      <td>105778.469642</td>\n      <td>93687.200381</td>\n      <td>22665.107054</td>\n      <td>10541.044498</td>\n      <td>2.610047</td>\n      <td>5.182241</td>\n      <td>2108.388355</td>\n      <td>1.000000</td>\n    </tr>\n  </tbody>\n</table>\n<p>8 rows × 22 columns</p>\n</div>"
     },
     "metadata": {},
     "execution_count": 23
    }
   ],
   "source": [
    "df.describe()\n"
   ]
  },
  {
   "cell_type": "code",
   "execution_count": 24,
   "metadata": {},
   "outputs": [
    {
     "output_type": "stream",
     "name": "stdout",
     "text": "(10000,)\n"
    }
   ],
   "source": [
    "df=df.drop(\"Unnamed: 0\",axis=1)\n",
    "Y=df['target']\n",
    "Y=Y.to_numpy()\n",
    "print(Y.shape)"
   ]
  },
  {
   "cell_type": "code",
   "execution_count": 25,
   "metadata": {},
   "outputs": [
    {
     "output_type": "stream",
     "name": "stdout",
     "text": "(10000, 20)\n"
    }
   ],
   "source": [
    "X=df.loc[:, df.columns != 'target']\n",
    "X=X.to_numpy()\n",
    "print(X.shape)"
   ]
  },
  {
   "cell_type": "code",
   "execution_count": 26,
   "metadata": {},
   "outputs": [],
   "source": [
    "X_train, X_test, Y_train,Y_test = train_test_split(X, Y, test_size=0.2, random_state=2)"
   ]
  },
  {
   "cell_type": "code",
   "execution_count": 27,
   "metadata": {},
   "outputs": [
    {
     "output_type": "stream",
     "name": "stdout",
     "text": "(8000, 20)\n(2000, 20)\n"
    }
   ],
   "source": [
    "print(X_train.shape,X_test.shape,sep='\\n')"
   ]
  },
  {
   "cell_type": "code",
   "execution_count": 28,
   "metadata": {},
   "outputs": [],
   "source": [
    "X_train_normalized = scale(X_train)\n",
    "X_test_normalized=scale(X_test)"
   ]
  },
  {
   "cell_type": "code",
   "execution_count": 29,
   "metadata": {},
   "outputs": [
    {
     "output_type": "execute_result",
     "data": {
      "text/plain": "LogisticRegression(C=1.0, class_weight=None, dual=False, fit_intercept=True,\n                   intercept_scaling=1, l1_ratio=None, max_iter=100,\n                   multi_class='auto', n_jobs=None, penalty='l2',\n                   random_state=None, solver='lbfgs', tol=0.0001, verbose=0,\n                   warm_start=False)"
     },
     "metadata": {},
     "execution_count": 29
    }
   ],
   "source": [
    "#Logistic Regression\n",
    "\n",
    "log=LogisticRegression()\n",
    "log.fit(X_train_normalized,Y_train)"
   ]
  },
  {
   "cell_type": "code",
   "execution_count": 30,
   "metadata": {},
   "outputs": [],
   "source": [
    "predlognorm=log.predict(X_test_normalized)"
   ]
  },
  {
   "cell_type": "code",
   "execution_count": 31,
   "metadata": {},
   "outputs": [
    {
     "output_type": "stream",
     "name": "stdout",
     "text": "The accuracy of given logistic regression model is: 93.10000000000001 %\n"
    }
   ],
   "source": [
    "print(\"The accuracy of given logistic regression model is:\",accuracy_score(Y_test,predlognorm)*100,\"%\")"
   ]
  },
  {
   "cell_type": "code",
   "execution_count": 32,
   "metadata": {},
   "outputs": [
    {
     "output_type": "execute_result",
     "data": {
      "text/plain": "SVC(C=1.0, break_ties=False, cache_size=200, class_weight=None, coef0=0.0,\n    decision_function_shape='ovr', degree=3, gamma='scale', kernel='rbf',\n    max_iter=-1, probability=False, random_state=None, shrinking=True,\n    tol=0.001, verbose=False)"
     },
     "metadata": {},
     "execution_count": 32
    }
   ],
   "source": [
    "#SVM\n",
    "svmc=SVC()\n",
    "svmc.fit(X_train_normalized,Y_train)"
   ]
  },
  {
   "cell_type": "code",
   "execution_count": 33,
   "metadata": {},
   "outputs": [
    {
     "output_type": "stream",
     "name": "stdout",
     "text": "The accuracy of SVC is : 98.3 %\n"
    }
   ],
   "source": [
    "predsvm=svmc.predict(X_test_normalized)\n",
    "print(\"The accuracy of SVC is :\",accuracy_score(Y_test,predsvm)*100,\"%\")"
   ]
  },
  {
   "cell_type": "code",
   "execution_count": 34,
   "metadata": {},
   "outputs": [
    {
     "output_type": "stream",
     "name": "stdout",
     "text": "THE roc_auc scores are:\nFor Logistic: 0.6856631293942966 %\nFor SVC: 0.9166666666666667\n"
    }
   ],
   "source": [
    "roc_auc_score_log=roc_auc_score(Y_test,predlognorm)\n",
    "roc_auc_score_svc=roc_auc_score(Y_test,predsvm)\n",
    "print(\"THE roc_auc scores are:\\nFor Logistic:\",roc_auc_score_log,\"%\\nFor SVC:\",roc_auc_score_svc)"
   ]
  },
  {
   "cell_type": "code",
   "execution_count": null,
   "metadata": {},
   "outputs": [],
   "source": []
  }
 ],
 "metadata": {
  "kernelspec": {
   "display_name": "Python 3.7.4 32-bit",
   "language": "python",
   "name": "python37432bitfed74f71efd04d719732af73290f909f"
  },
  "language_info": {
   "codemirror_mode": {
    "name": "ipython",
    "version": 3
   },
   "file_extension": ".py",
   "mimetype": "text/x-python",
   "name": "python",
   "nbconvert_exporter": "python",
   "pygments_lexer": "ipython3",
   "version": "3.7.4-final"
  }
 },
 "nbformat": 4,
 "nbformat_minor": 2
}